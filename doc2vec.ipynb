{
 "cells": [
  {
   "cell_type": "code",
   "execution_count": null,
   "metadata": {},
   "outputs": [],
   "source": [
    "import pickle\n",
    "from gensim.models.doc2vec import Doc2Vec, TaggedDocument\n",
    "from gensim.test.utils import get_tmpfile"
   ]
  },
  {
   "cell_type": "code",
   "execution_count": null,
   "metadata": {},
   "outputs": [],
   "source": [
    "\"\"\" Doc2Vec träning \"\"\"\n",
    "\n",
    "# Skapar ett korpus, i detta fall en lista bestående av en lista med anförandet uppslittat\n",
    "documents = [speech.text.split() for speech in speeches]\n",
    "\n",
    "# Taggar dokumenten med index (varje dokument behöver en unik tagg)\n",
    "tagged_data = [TaggedDocument(words=doc, tags=[str(i)]) for i, doc in enumerate(documents)]\n",
    "\n",
    "# Modellparametrar (hyperparametrar)\n",
    "vector_size = 100\n",
    "window_size = 5\n",
    "min_count = 1\n",
    "epochs = 10\n",
    "\n",
    "model = Doc2Vec(vector_size=vector_size, window = window_size, min_count = min_count, epochs=epochs, workers=4)\n",
    "model.build_vocab(tagged_data)\n",
    "model.train(tagged_data, total_examples=model.corpus_count, epochs=model.epochs)\n",
    "\n",
    "# spara modell i separat fil\n",
    "\n",
    "filename = get_tmpfile(\"doc2vec_model\")\n",
    "model.save(filename)"
   ]
  },
  {
   "cell_type": "code",
   "execution_count": null,
   "metadata": {},
   "outputs": [],
   "source": [
    "\"\"\" \"\"\""
   ]
  }
 ],
 "metadata": {
  "language_info": {
   "name": "python"
  }
 },
 "nbformat": 4,
 "nbformat_minor": 2
}
