{
 "cells": [
  {
   "cell_type": "code",
   "execution_count": 5,
   "metadata": {},
   "outputs": [],
   "source": [
    "import pickle"
   ]
  },
  {
   "cell_type": "code",
   "execution_count": 2,
   "metadata": {},
   "outputs": [],
   "source": [
    "pickle_file_path = \"anforanden.pickle\"\n",
    "\n",
    "# Öppna den picklade filen för läsning (\"rb\" står för \"read binary\")\n",
    "with open(pickle_file_path, \"rb\") as file:\n",
    "    # Läs innehållet från den picklade filen och lagra det i en variabel\n",
    "    speeches = pickle.load(file)"
   ]
  },
  {
   "cell_type": "code",
   "execution_count": 3,
   "metadata": {},
   "outputs": [
    {
     "name": "stdout",
     "output_type": "stream",
     "text": [
      "KD: 11633\n",
      "SD: 13810\n",
      "M: 33295\n",
      "S: 46774\n",
      "L: 11634\n",
      "V: 13918\n",
      "MP: 16018\n",
      "C: 12561\n"
     ]
    }
   ],
   "source": [
    "attribute_counts = {}\n",
    "\n",
    "# Iterate through the list of objects\n",
    "for speech in speeches:\n",
    "    # Access the attribute of each object\n",
    "    attribute_value = speech.party\n",
    "\n",
    "    # Update the count in the dictionary\n",
    "    if attribute_value not in attribute_counts:\n",
    "        attribute_counts[attribute_value] = 1\n",
    "    else:\n",
    "        attribute_counts[attribute_value] += 1\n",
    "\n",
    "# Print the counts\n",
    "for attribute_value, count in attribute_counts.items():\n",
    "    print(f\"{attribute_value}: {count}\")"
   ]
  }
 ],
 "metadata": {
  "interpreter": {
   "hash": "aee8b7b246df8f9039afb4144a1f6fd8d2ca17a180786b69acc140d282b71a49"
  },
  "kernelspec": {
   "display_name": "Python 3.9.7 64-bit",
   "name": "python3"
  },
  "language_info": {
   "codemirror_mode": {
    "name": "ipython",
    "version": 3
   },
   "file_extension": ".py",
   "mimetype": "text/x-python",
   "name": "python",
   "nbconvert_exporter": "python",
   "pygments_lexer": "ipython3",
   "version": "3.9.6"
  },
  "orig_nbformat": 4
 },
 "nbformat": 4,
 "nbformat_minor": 2
}
